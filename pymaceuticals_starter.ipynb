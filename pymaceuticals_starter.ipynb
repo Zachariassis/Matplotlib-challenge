{
 "cells": [
  {
   "cell_type": "markdown",
   "metadata": {},
   "source": [
    "## Observations and Insights "
   ]
  },
  {
   "cell_type": "markdown",
   "metadata": {},
   "source": []
  },
  {
   "cell_type": "code",
   "execution_count": 1,
   "metadata": {
    "tags": []
   },
   "outputs": [
    {
     "output_type": "execute_result",
     "data": {
      "text/plain": "  Mouse ID Drug Regimen     Sex  Age_months  Weight (g)  \\\n0     k403     Ramicane    Male          21          16   \n1     s185    Capomulin  Female           3          17   \n2     x401    Capomulin  Female          16          15   \n3     m601    Capomulin    Male          22          17   \n4     g791     Ramicane    Male          11          16   \n\n   Tumor Volume (mm3)_T0  Metastatic Sites_T0  Tumor Volume (mm3)_T1  \\\n0                   45.0                  0.0              45.651331   \n1                   45.0                  0.0                    NaN   \n2                   45.0                  0.0              48.791665   \n3                   45.0                  0.0              47.462891   \n4                   45.0                  0.0              45.769249   \n\n   Metastatic Sites_T1  Tumor Volume (mm3)_T2  ...  Tumor Volume (mm3)_T5  \\\n0                  0.0              43.270852  ...              43.262145   \n1                  NaN                    NaN  ...                    NaN   \n2                  0.0              53.435987  ...              64.663626   \n3                  0.0              49.783419  ...                    NaN   \n4                  1.0              46.658395  ...              51.828357   \n\n   Metastatic Sites_T5  Tumor Volume (mm3)_T6  Metastatic Sites_T6  \\\n0                  1.0              40.605335                  1.0   \n1                  NaN                    NaN                  NaN   \n2                  0.0              69.160520                  0.0   \n3                  NaN                    NaN                  NaN   \n4                  1.0              56.098998                  1.0   \n\n   Tumor Volume (mm3)_T7  Metastatic Sites_T7  Tumor Volume (mm3)_T8  \\\n0              37.967644                  1.0              38.379726   \n1                    NaN                  NaN                    NaN   \n2              71.905117                  0.0                    NaN   \n3                    NaN                  NaN                    NaN   \n4              57.729535                  1.0              62.175705   \n\n   Metastatic Sites_T8  Tumor Volume (mm3)_T9  Metastatic Sites_T9  \n0                  2.0              38.982878                  2.0  \n1                  NaN                    NaN                  NaN  \n2                  NaN                    NaN                  NaN  \n3                  NaN                    NaN                  NaN  \n4                  1.0                    NaN                  NaN  \n\n[5 rows x 25 columns]",
      "text/html": "<div>\n<style scoped>\n    .dataframe tbody tr th:only-of-type {\n        vertical-align: middle;\n    }\n\n    .dataframe tbody tr th {\n        vertical-align: top;\n    }\n\n    .dataframe thead th {\n        text-align: right;\n    }\n</style>\n<table border=\"1\" class=\"dataframe\">\n  <thead>\n    <tr style=\"text-align: right;\">\n      <th></th>\n      <th>Mouse ID</th>\n      <th>Drug Regimen</th>\n      <th>Sex</th>\n      <th>Age_months</th>\n      <th>Weight (g)</th>\n      <th>Tumor Volume (mm3)_T0</th>\n      <th>Metastatic Sites_T0</th>\n      <th>Tumor Volume (mm3)_T1</th>\n      <th>Metastatic Sites_T1</th>\n      <th>Tumor Volume (mm3)_T2</th>\n      <th>...</th>\n      <th>Tumor Volume (mm3)_T5</th>\n      <th>Metastatic Sites_T5</th>\n      <th>Tumor Volume (mm3)_T6</th>\n      <th>Metastatic Sites_T6</th>\n      <th>Tumor Volume (mm3)_T7</th>\n      <th>Metastatic Sites_T7</th>\n      <th>Tumor Volume (mm3)_T8</th>\n      <th>Metastatic Sites_T8</th>\n      <th>Tumor Volume (mm3)_T9</th>\n      <th>Metastatic Sites_T9</th>\n    </tr>\n  </thead>\n  <tbody>\n    <tr>\n      <th>0</th>\n      <td>k403</td>\n      <td>Ramicane</td>\n      <td>Male</td>\n      <td>21</td>\n      <td>16</td>\n      <td>45.0</td>\n      <td>0.0</td>\n      <td>45.651331</td>\n      <td>0.0</td>\n      <td>43.270852</td>\n      <td>...</td>\n      <td>43.262145</td>\n      <td>1.0</td>\n      <td>40.605335</td>\n      <td>1.0</td>\n      <td>37.967644</td>\n      <td>1.0</td>\n      <td>38.379726</td>\n      <td>2.0</td>\n      <td>38.982878</td>\n      <td>2.0</td>\n    </tr>\n    <tr>\n      <th>1</th>\n      <td>s185</td>\n      <td>Capomulin</td>\n      <td>Female</td>\n      <td>3</td>\n      <td>17</td>\n      <td>45.0</td>\n      <td>0.0</td>\n      <td>NaN</td>\n      <td>NaN</td>\n      <td>NaN</td>\n      <td>...</td>\n      <td>NaN</td>\n      <td>NaN</td>\n      <td>NaN</td>\n      <td>NaN</td>\n      <td>NaN</td>\n      <td>NaN</td>\n      <td>NaN</td>\n      <td>NaN</td>\n      <td>NaN</td>\n      <td>NaN</td>\n    </tr>\n    <tr>\n      <th>2</th>\n      <td>x401</td>\n      <td>Capomulin</td>\n      <td>Female</td>\n      <td>16</td>\n      <td>15</td>\n      <td>45.0</td>\n      <td>0.0</td>\n      <td>48.791665</td>\n      <td>0.0</td>\n      <td>53.435987</td>\n      <td>...</td>\n      <td>64.663626</td>\n      <td>0.0</td>\n      <td>69.160520</td>\n      <td>0.0</td>\n      <td>71.905117</td>\n      <td>0.0</td>\n      <td>NaN</td>\n      <td>NaN</td>\n      <td>NaN</td>\n      <td>NaN</td>\n    </tr>\n    <tr>\n      <th>3</th>\n      <td>m601</td>\n      <td>Capomulin</td>\n      <td>Male</td>\n      <td>22</td>\n      <td>17</td>\n      <td>45.0</td>\n      <td>0.0</td>\n      <td>47.462891</td>\n      <td>0.0</td>\n      <td>49.783419</td>\n      <td>...</td>\n      <td>NaN</td>\n      <td>NaN</td>\n      <td>NaN</td>\n      <td>NaN</td>\n      <td>NaN</td>\n      <td>NaN</td>\n      <td>NaN</td>\n      <td>NaN</td>\n      <td>NaN</td>\n      <td>NaN</td>\n    </tr>\n    <tr>\n      <th>4</th>\n      <td>g791</td>\n      <td>Ramicane</td>\n      <td>Male</td>\n      <td>11</td>\n      <td>16</td>\n      <td>45.0</td>\n      <td>0.0</td>\n      <td>45.769249</td>\n      <td>1.0</td>\n      <td>46.658395</td>\n      <td>...</td>\n      <td>51.828357</td>\n      <td>1.0</td>\n      <td>56.098998</td>\n      <td>1.0</td>\n      <td>57.729535</td>\n      <td>1.0</td>\n      <td>62.175705</td>\n      <td>1.0</td>\n      <td>NaN</td>\n      <td>NaN</td>\n    </tr>\n  </tbody>\n</table>\n<p>5 rows × 25 columns</p>\n</div>"
     },
     "metadata": {},
     "execution_count": 1
    }
   ],
   "source": [
    "# Dependencies and Setup\n",
    "import matplotlib.pyplot as plt\n",
    "import pandas as pd\n",
    "import scipy.stats as st\n",
    "import numpy as np\n",
    "\n",
    "# Study data files\n",
    "mouse_metadata_path = \"data/Mouse_metadata.csv\"\n",
    "study_results_path = \"data/Study_results.csv\"\n",
    "\n",
    "# Read the mouse data and the study results\n",
    "mouse_metadata = pd.read_csv(mouse_metadata_path)\n",
    "study_results = pd.read_csv(study_results_path)\n",
    "\n",
    "nums=study_results.groupby([\"Timepoint\"]).count()\n",
    "dups= study_results.duplicated(subset=[\"Mouse ID\", \"Timepoint\"], keep=False)\n",
    "dups_count=dups.value_counts()\n",
    "dups_count_df=pd.DataFrame({\"Duplicate\": dups})\n",
    "study_results_dups=study_results.merge(dups_count_df,how=\"outer\",left_index=True, right_index=True)\n",
    "study_results_dups2=study_results_dups.loc[study_results_dups[\"Duplicate\"]!=True]\n",
    "study_results_dups2=study_results_dups2.drop(columns=[\"Duplicate\"])\n",
    "\n",
    "\n",
    "# Combine the data into a single dataset\n",
    "\n",
    "Times=nums.index.tolist()\n",
    "\n",
    "for x in range(len(Times)):\n",
    "    if x==0:\n",
    "        results_combined=study_results_dups2.loc[study_results_dups2[\"Timepoint\"]==Times[x]].drop(columns=[\"Timepoint\"])\n",
    "        column_names=list(results_combined.columns)\n",
    "        del column_names[0]\n",
    "    elif x==len(Times)-1:\n",
    "        results_combined=results_combined.merge(study_results_dups2.loc[study_results_dups2[\"Timepoint\"]==Times[x]], on=\"Mouse ID\", how=\"outer\", suffixes=('_T0',f'_T{x}')).drop(columns=[\"Timepoint\"])\n",
    "    else:\n",
    "        results_combined=results_combined.merge(study_results_dups2.loc[study_results_dups2[\"Timepoint\"]==Times[x]], on=\"Mouse ID\", how=\"outer\", suffixes=('',f'_T{x}')).drop(columns=[\"Timepoint\"])\n",
    "\n",
    "\n",
    "#Combine results DF with mouse DF\n",
    "data_df=mouse_metadata.merge(results_combined, on=\"Mouse ID\", how=\"outer\",left_index=True, right_index=True)\n",
    "\n",
    "#Getting rid of mice in metadata that was/were misslabelled in the study results set\n",
    "data_df=data_df.loc[data_df[\"Tumor Volume (mm3)_T0\"].isnull()==False]\n",
    "\n",
    "# Display the data table for preview\n",
    "data_df.head()\n"
   ]
  },
  {
   "cell_type": "markdown",
   "metadata": {},
   "source": [
    "## Summary Statistics"
   ]
  },
  {
   "cell_type": "code",
   "execution_count": 14,
   "metadata": {},
   "outputs": [
    {
     "output_type": "execute_result",
     "data": {
      "text/plain": "            0.0               0.392311   \n             mean                                 45.0              46.678219   \n             median                               45.0              46.754269   \n             standard deviation                    0.0               1.961557   \n             variance                              0.0               3.847707   \nKetapril     SEM                                   0.0               0.377676   \n             mean                                 45.0              46.131894   \n             median                               45.0              46.493024   \n             standard deviation                    0.0               1.730727   \n             variance                              0.0               2.995415   \nNaftisol     SEM                                   0.0               0.356202   \n             mean                                 45.0              46.570970   \n             median                               45.0              46.744077   \n             standard deviation                    0.0               1.745027   \n             variance                              0.0               3.045121   \nPlacebo      SEM                                   0.0               0.429466   \n             mean                                 45.0              46.161373   \n             median                               45.0              46.140826   \n             standard deviation                    0.0               2.103946   \n             variance                              0.0               4.426591   \nPropriva     SEM                                   0.0               0.324600   \n             mean                                 45.0              46.306628   \n             median                               45.0              45.910041   \n             standard deviation                    0.0               1.590207   \n             variance                              0.0               2.528757   \nRamicane     SEM                                   0.0               0.493977   \n             mean                                 45.0              46.625715   \n             median                               45.0              46.431216   \n             standard deviation                    0.0               2.469886   \n             variance                              0.0               6.100335   \nStelasyn     SEM                                   0.0               0.425755   \n             mean                                 45.0              46.307957   \n             median                               45.0              46.377277   \n             standard deviation                    0.0               1.996966   \n             variance                              0.0               3.987874   \nZoniferol    SEM                                   0.0               0.476275   \n             mean                                 45.0              45.956632   \n             median                               45.0              46.684697   \n             standard deviation                    0.0               2.333260   \n             variance                              0.0               5.444101   \n\n                                 Tumor Volume (mm3)_T2  Tumor Volume (mm3)_T3  \\\nDrug Regimen Stat                                                               \nCapomulin    SEM                              0.326829               0.498236   \n             mean                            49.434785              51.459113   \n             median                          49.647087              51.211935   \n             standard deviation               1.497720               2.228179   \n             variance                         2.243164               4.964779   \nCeftamin     SEM                              0.871662               1.073905   \n             mean                            46.696205              48.031538   \n             median                          47.400683              49.176147   \n             standard deviation               4.088457               4.802651   \n             variance                        16.715484              23.065458   \nInfubinol    SEM                              0.712407               1.206815   \n             mean                            48.340462              49.715929   \n             median                          48.375784              49.406879   \n             standard deviation               3.490067               5.260384   \n             variance                        12.180569              27.671636   \nKetapril     SEM                              0.651918               1.080046   \n             mean                            46.921618              47.731645   \n             median                          48.146351              49.536898   \n             standard deviation               2.987464               4.707811   \n             variance                         8.924938              22.163488   \nNaftisol     SEM                              0.707680               1.111765   \n             mean                            47.038475              47.848991   \n             median                          47.474645              49.084603   \n             standard deviation               3.393912               5.214641   \n             variance                        11.518639              27.192483   \nPlacebo      SEM                              0.918823               1.179360   \n             mean                            47.160572              47.966604   \n             median                          47.841588              49.987766   \n             standard deviation               4.309663               5.140710   \n             variance                        18.573197              26.426898   \nPropriva     SEM                              0.822007               1.245484   \n             mean                            47.341923              48.003362   \n             median                          48.179506              49.325826   \n             standard deviation               3.766908               5.569973   \n             variance                        14.189593              31.024600   \nRamicane     SEM                              0.433735               0.650102   \n             mean                            48.709927              51.083573   \n             median                          48.516175              51.074521   \n             standard deviation               2.034396               2.979141   \n             variance                         4.138767               8.875279   \nStelasyn     SEM                              0.701502               1.028051   \n             mean                            47.774389              48.986664   \n             median                          48.033423              50.263563   \n             standard deviation               3.290337               4.821987   \n             variance                        10.826318              23.251555   \nZoniferol    SEM                              0.751491               1.089267   \n             mean                            47.317913              48.742626   \n             median                          48.183402              49.687052   \n             standard deviation               3.604025               5.223941   \n             variance                        12.988999              27.289563   \n\n                                 Tumor Volume (mm3)_T4  Tumor Volume (mm3)_T5  \\\nDrug Regimen Stat                                                               \nCapomulin    SEM                              0.681892               0.793268   \n             mean                            53.960960              56.572903   \n             median                          54.462594              56.488463   \n             standard deviation               2.972300               3.365551   \n             variance                         8.834566              11.326930   \nCeftamin     SEM                              1.700986               2.171841   \n             mean                            48.790839              49.965985   \n             median                          51.826638              54.007103   \n             standard deviation               7.013347               8.687363   \n             variance                        49.187035              75.470283   \nInfubinol    SEM                              1.716049               1.847221   \n             mean                            50.997209              53.398278   \n             median                          52.604367              54.701229   \n             standard deviation               7.480085               7.616288   \n             variance                        55.951676              58.007848   \nKetapril     SEM                              1.419200               1.772405   \n             mean                            49.027502              50.148587   \n             median                          51.375376              53.354528   \n             standard deviation               6.021157               7.519679   \n             variance                        36.254335              56.545577   \nNaftisol     SEM                              1.447241               1.808726   \n             mean                            48.696872              49.818513   \n             median                          50.917830              52.759552   \n             standard deviation               6.788161               8.483679   \n             variance                        46.079136              71.972807   \nPlacebo      SEM                              1.537337               2.010199   \n             mean                            48.985823              50.026031   \n             median                          51.185976              52.625593   \n             standard deviation               6.338602               8.040797   \n             variance                        40.177873              64.654410   \nPropriva     SEM                              1.480327               2.050615   \n             mean                            49.305041              50.538140   \n             median                          51.001515              52.600270   \n             standard deviation               6.620226               8.938425   \n             variance                        43.827386              79.895439   \nRamicane     SEM                              0.844034               1.028673   \n             mean                            53.559185              56.114986   \n             median                          53.189879              56.125807   \n             standard deviation               3.867850               4.600366   \n             variance                        14.960264              21.163369   \nStelasyn     SEM                              1.538320               1.965836   \n             mean                            51.055153              52.507000   \n             median                          53.283910              55.702460   \n             standard deviation               6.879574               8.340337   \n             variance                        47.328545              69.561227   \nZoniferol    SEM                              1.599750               2.300442   \n             mean                            49.904878              50.898535   \n             median                          52.693115              55.718627   \n             standard deviation               7.154298               9.759947   \n             variance                        51.183978              95.256564   \n\n                                 Tumor Volume (mm3)_T6  Tumor Volume (mm3)_T7  \\\nDrug Regimen Stat                                                               \nCapomulin    SEM                              0.956875               1.172059   \n             mean                            60.076396              62.649431   \n             median                          59.493846              61.763449   \n             standard deviation               3.827501               4.385441   \n             variance                        14.649766              19.232096   \nCeftamin     SEM                              2.691382               3.567784   \n             mean                            50.963119              50.785173   \n             median                          55.875786              57.808069   \n             standard deviation              10.765529              13.349425   \n             variance                       115.896611             178.207150   \nInfubinol    SEM                              2.414510               2.797886   \n             mean                            54.853538              57.895757   \n             median                          57.146144              60.430520   \n             standard deviation               9.351357              10.468732   \n             variance                        87.447881             109.594353   \nKetapril     SEM                              2.303424               3.148649   \n             mean                            51.274317              52.328041   \n             median                          55.429407              56.653624   \n             standard deviation               9.213695              10.907238   \n             variance                        84.892182             118.967849   \nNaftisol     SEM                              2.170867               2.773678   \n             mean                            51.538552              51.859245   \n             median                          55.666882              57.911251   \n             standard deviation              10.182267              12.404264   \n             variance                       103.678564             153.865778   \nPlacebo      SEM                              2.779610               3.118619   \n             mean                            48.928991              47.781450   \n             median                          48.999563              44.702833   \n             standard deviation               9.628852              10.343290   \n             variance                        92.714800             106.983640   \nPropriva     SEM                              2.536683               3.230763   \n             mean                            52.516770              53.202026   \n             median                          56.388071              59.253484   \n             standard deviation              10.762236              13.320778   \n             variance                       115.825718             177.443134   \nRamicane     SEM                              1.256525               1.585914   \n             mean                            58.498355              61.139243   \n             median                          58.662163              61.462604   \n             standard deviation               5.619351               6.912841   \n             variance                        31.577105              47.787370   \nStelasyn     SEM                              2.374932               3.068414   \n             mean                            54.261146              54.641058   \n             median                          58.038538              57.600798   \n             standard deviation              10.075981              11.883915   \n             variance                       101.525397             141.227429   \nZoniferol    SEM                              2.825109               3.013467   \n             mean                            51.712464              53.297967   \n             median                          57.052805              58.714483   \n             standard deviation              11.648222              12.424845   \n             variance                       135.681084             154.376763   \n\n                                 Tumor Volume (mm3)_T8  Tumor Volume (mm3)_T9  \nDrug Regimen Stat                                                              \nCapomulin    SEM                              1.304194               1.428976  \n             mean                            65.572976              68.529524  \n             median                          64.138725              67.758506  \n             standard deviation               4.325522               4.518818  \n             variance                        18.710142              20.419717  \nCeftamin     SEM                              4.169624               4.717697  \n             mean                            51.808889              53.309894  \n             median                          59.604166              61.973786  \n             standard deviation              15.601304              17.652007  \n             variance                       243.400698             311.593367  \nInfubinol    SEM                              3.251030               3.934651  \n             mean                            59.026353              61.234859  \n             median                          63.593490              67.748662  \n             standard deviation              11.721756              14.186587  \n             variance                       137.399561             201.259259  \nKetapril     SEM                              4.178534               5.221367  \n             mean                            52.592541              52.788606  \n             median                          58.011146              60.010032  \n             standard deviation              13.858629              16.511413  \n             variance                       192.061605             272.626759  \nNaftisol     SEM                              3.273160               3.631832  \n             mean                            53.453059              55.303576  \n             median                          61.049151              64.743292  \n             standard deviation              14.638016              16.242048  \n             variance                       214.271505             263.804135  \nPlacebo      SEM                              3.751136               4.578058  \n             mean                            48.133646              47.780670  \n             median                          44.786272              41.853274  \n             standard deviation              11.862134              14.477089  \n             variance                       140.710229             209.586105  \nPropriva     SEM                              3.923517               4.786315  \n             mean                            55.503455              55.915380  \n             median                          63.194428              64.294085  \n             standard deviation              15.195715              17.257303  \n             variance                       230.909752             297.814517  \nRamicane     SEM                              1.801864               2.733432  \n             mean                            63.828535              67.313693  \n             median                          64.054246              67.685569  \n             standard deviation               7.644662               9.855528  \n             variance                        58.440850              97.131426  \nStelasyn     SEM                              3.425240               4.605272  \n             mean                            57.393071              58.427308  \n             median                          61.348251              63.649593  \n             standard deviation              12.816074              15.953130  \n             variance                       164.251753             254.502347  \nZoniferol    SEM                              3.403946               4.074326  \n             mean                            53.757303              53.985837  \n             median                          60.726469              62.109651  \n             standard deviation              13.615784              15.779796  \n             variance                       185.389582             249.001954  ",
      "text/html": "<div>\n<style scoped>\n    .dataframe tbody tr th:only-of-type {\n        vertical-align: middle;\n    }\n\n    .dataframe tbody tr th {\n        vertical-align: top;\n    }\n\n    .dataframe thead th {\n        text-align: right;\n    }\n</style>\n<table border=\"1\" class=\"dataframe\">\n  <thead>\n    <tr style=\"text-align: right;\">\n      <th></th>\n      <th></th>\n      <th>Tumor Volume (mm3)_T0</th>\n      <th>Tumor Volume (mm3)_T1</th>\n      <th>Tumor Volume (mm3)_T2</th>\n      <th>Tumor Volume (mm3)_T3</th>\n      <th>Tumor Volume (mm3)_T4</th>\n      <th>Tumor Volume (mm3)_T5</th>\n      <th>Tumor Volume (mm3)_T6</th>\n      <th>Tumor Volume (mm3)_T7</th>\n      <th>Tumor Volume (mm3)_T8</th>\n      <th>Tumor Volume (mm3)_T9</th>\n    </tr>\n    <tr>\n      <th>Drug Regimen</th>\n      <th>Stat</th>\n      <th></th>\n      <th></th>\n      <th></th>\n      <th></th>\n      <th></th>\n      <th></th>\n      <th></th>\n      <th></th>\n      <th></th>\n      <th></th>\n    </tr>\n  </thead>\n  <tbody>\n    <tr>\n      <th rowspan=\"5\" valign=\"top\">Capomulin</th>\n      <th>SEM</th>\n      <td>0.0</td>\n      <td>0.238502</td>\n      <td>0.326829</td>\n      <td>0.498236</td>\n      <td>0.681892</td>\n      <td>0.793268</td>\n      <td>0.956875</td>\n      <td>1.172059</td>\n      <td>1.304194</td>\n      <td>1.428976</td>\n    </tr>\n    <tr>\n      <th>mean</th>\n      <td>45.0</td>\n      <td>47.224042</td>\n      <td>49.434785</td>\n      <td>51.459113</td>\n      <td>53.960960</td>\n      <td>56.572903</td>\n      <td>60.076396</td>\n      <td>62.649431</td>\n      <td>65.572976</td>\n      <td>68.529524</td>\n    </tr>\n    <tr>\n      <th>median</th>\n      <td>45.0</td>\n      <td>46.877243</td>\n      <td>49.647087</td>\n      <td>51.211935</td>\n      <td>54.462594</td>\n      <td>56.488463</td>\n      <td>59.493846</td>\n      <td>61.763449</td>\n      <td>64.138725</td>\n      <td>67.758506</td>\n    </tr>\n    <tr>\n      <th>standard deviation</th>\n      <td>0.0</td>\n      <td>1.143814</td>\n      <td>1.497720</td>\n      <td>2.228179</td>\n      <td>2.972300</td>\n      <td>3.365551</td>\n      <td>3.827501</td>\n      <td>4.385441</td>\n      <td>4.325522</td>\n      <td>4.518818</td>\n    </tr>\n    <tr>\n      <th>variance</th>\n      <td>0.0</td>\n      <td>1.308310</td>\n      <td>2.243164</td>\n      <td>4.964779</td>\n      <td>8.834566</td>\n      <td>11.326930</td>\n      <td>14.649766</td>\n      <td>19.232096</td>\n      <td>18.710142</td>\n      <td>20.419717</td>\n    </tr>\n    <tr>\n      <th rowspan=\"5\" valign=\"top\">Ceftamin</th>\n      <th>SEM</th>\n      <td>0.0</td>\n      <td>0.461324</td>\n      <td>0.871662</td>\n      <td>1.073905</td>\n      <td>1.700986</td>\n      <td>2.171841</td>\n      <td>2.691382</td>\n      <td>3.567784</td>\n      <td>4.169624</td>\n      <td>4.717697</td>\n    </tr>\n    <tr>\n      <th>mean</th>\n      <td>45.0</td>\n      <td>45.733059</td>\n      <td>46.696205</td>\n      <td>48.031538</td>\n      <td>48.790839</td>\n      <td>49.965985</td>\n      <td>50.963119</td>\n      <td>50.785173</td>\n      <td>51.808889</td>\n      <td>53.309894</td>\n    </tr>\n    <tr>\n      <th>median</th>\n      <td>45.0</td>\n      <td>45.995380</td>\n      <td>47.400683</td>\n      <td>49.176147</td>\n      <td>51.826638</td>\n      <td>54.007103</td>\n      <td>55.875786</td>\n      <td>57.808069</td>\n      <td>59.604166</td>\n      <td>61.973786</td>\n    </tr>\n    <tr>\n      <th>standard deviation</th>\n      <td>0.0</td>\n      <td>2.260014</td>\n      <td>4.088457</td>\n      <td>4.802651</td>\n      <td>7.013347</td>\n      <td>8.687363</td>\n      <td>10.765529</td>\n      <td>13.349425</td>\n      <td>15.601304</td>\n      <td>17.652007</td>\n    </tr>\n    <tr>\n      <th>variance</th>\n      <td>0.0</td>\n      <td>5.107665</td>\n      <td>16.715484</td>\n      <td>23.065458</td>\n      <td>49.187035</td>\n      <td>75.470283</td>\n      <td>115.896611</td>\n      <td>178.207150</td>\n      <td>243.400698</td>\n      <td>311.593367</td>\n    </tr>\n    <tr>\n      <th rowspan=\"5\" valign=\"top\">Infubinol</th>\n      <th>SEM</th>\n      <td>0.0</td>\n      <td>0.392311</td>\n      <td>0.712407</td>\n      <td>1.206815</td>\n      <td>1.716049</td>\n      <td>1.847221</td>\n      <td>2.414510</td>\n      <td>2.797886</td>\n      <td>3.251030</td>\n      <td>3.934651</td>\n    </tr>\n    <tr>\n      <th>mean</th>\n      <td>45.0</td>\n      <td>46.678219</td>\n      <td>48.340462</td>\n      <td>49.715929</td>\n      <td>50.997209</td>\n      <td>53.398278</td>\n      <td>54.853538</td>\n      <td>57.895757</td>\n      <td>59.026353</td>\n      <td>61.234859</td>\n    </tr>\n    <tr>\n      <th>median</th>\n      <td>45.0</td>\n      <td>46.754269</td>\n      <td>48.375784</td>\n      <td>49.406879</td>\n      <td>52.604367</td>\n      <td>54.701229</td>\n      <td>57.146144</td>\n      <td>60.430520</td>\n      <td>63.593490</td>\n      <td>67.748662</td>\n    </tr>\n    <tr>\n      <th>standard deviation</th>\n      <td>0.0</td>\n      <td>1.961557</td>\n      <td>3.490067</td>\n      <td>5.260384</td>\n      <td>7.480085</td>\n      <td>7.616288</td>\n      <td>9.351357</td>\n      <td>10.468732</td>\n      <td>11.721756</td>\n      <td>14.186587</td>\n    </tr>\n    <tr>\n      <th>variance</th>\n      <td>0.0</td>\n      <td>3.847707</td>\n      <td>12.180569</td>\n      <td>27.671636</td>\n      <td>55.951676</td>\n      <td>58.007848</td>\n      <td>87.447881</td>\n      <td>109.594353</td>\n      <td>137.399561</td>\n      <td>201.259259</td>\n    </tr>\n    <tr>\n      <th rowspan=\"5\" valign=\"top\">Ketapril</th>\n      <th>SEM</th>\n      <td>0.0</td>\n      <td>0.377676</td>\n      <td>0.651918</td>\n      <td>1.080046</td>\n      <td>1.419200</td>\n      <td>1.772405</td>\n      <td>2.303424</td>\n      <td>3.148649</td>\n      <td>4.178534</td>\n      <td>5.221367</td>\n    </tr>\n    <tr>\n      <th>mean</th>\n      <td>45.0</td>\n      <td>46.131894</td>\n      <td>46.921618</td>\n      <td>47.731645</td>\n      <td>49.027502</td>\n      <td>50.148587</td>\n      <td>51.274317</td>\n      <td>52.328041</td>\n      <td>52.592541</td>\n      <td>52.788606</td>\n    </tr>\n    <tr>\n      <th>median</th>\n      <td>45.0</td>\n      <td>46.493024</td>\n      <td>48.146351</td>\n      <td>49.536898</td>\n      <td>51.375376</td>\n      <td>53.354528</td>\n      <td>55.429407</td>\n      <td>56.653624</td>\n      <td>58.011146</td>\n      <td>60.010032</td>\n    </tr>\n    <tr>\n      <th>standard deviation</th>\n      <td>0.0</td>\n      <td>1.730727</td>\n      <td>2.987464</td>\n      <td>4.707811</td>\n      <td>6.021157</td>\n      <td>7.519679</td>\n      <td>9.213695</td>\n      <td>10.907238</td>\n      <td>13.858629</td>\n      <td>16.511413</td>\n    </tr>\n    <tr>\n      <th>variance</th>\n      <td>0.0</td>\n      <td>2.995415</td>\n      <td>8.924938</td>\n      <td>22.163488</td>\n      <td>36.254335</td>\n      <td>56.545577</td>\n      <td>84.892182</td>\n      <td>118.967849</td>\n      <td>192.061605</td>\n      <td>272.626759</td>\n    </tr>\n    <tr>\n      <th rowspan=\"5\" valign=\"top\">Naftisol</th>\n      <th>SEM</th>\n      <td>0.0</td>\n      <td>0.356202</td>\n      <td>0.707680</td>\n      <td>1.111765</td>\n      <td>1.447241</td>\n      <td>1.808726</td>\n      <td>2.170867</td>\n      <td>2.773678</td>\n      <td>3.273160</td>\n      <td>3.631832</td>\n    </tr>\n    <tr>\n      <th>mean</th>\n      <td>45.0</td>\n      <td>46.570970</td>\n      <td>47.038475</td>\n      <td>47.848991</td>\n      <td>48.696872</td>\n      <td>49.818513</td>\n      <td>51.538552</td>\n      <td>51.859245</td>\n      <td>53.453059</td>\n      <td>55.303576</td>\n    </tr>\n    <tr>\n      <th>median</th>\n      <td>45.0</td>\n      <td>46.744077</td>\n      <td>47.474645</td>\n      <td>49.084603</td>\n      <td>50.917830</td>\n      <td>52.759552</td>\n      <td>55.666882</td>\n      <td>57.911251</td>\n      <td>61.049151</td>\n      <td>64.743292</td>\n    </tr>\n    <tr>\n      <th>standard deviation</th>\n      <td>0.0</td>\n      <td>1.745027</td>\n      <td>3.393912</td>\n      <td>5.214641</td>\n      <td>6.788161</td>\n      <td>8.483679</td>\n      <td>10.182267</td>\n      <td>12.404264</td>\n      <td>14.638016</td>\n      <td>16.242048</td>\n    </tr>\n    <tr>\n      <th>variance</th>\n      <td>0.0</td>\n      <td>3.045121</td>\n      <td>11.518639</td>\n      <td>27.192483</td>\n      <td>46.079136</td>\n      <td>71.972807</td>\n      <td>103.678564</td>\n      <td>153.865778</td>\n      <td>214.271505</td>\n      <td>263.804135</td>\n    </tr>\n    <tr>\n      <th rowspan=\"5\" valign=\"top\">Placebo</th>\n      <th>SEM</th>\n      <td>0.0</td>\n      <td>0.429466</td>\n      <td>0.918823</td>\n      <td>1.179360</td>\n      <td>1.537337</td>\n      <td>2.010199</td>\n      <td>2.779610</td>\n      <td>3.118619</td>\n      <td>3.751136</td>\n      <td>4.578058</td>\n    </tr>\n    <tr>\n      <th>mean</th>\n      <td>45.0</td>\n      <td>46.161373</td>\n      <td>47.160572</td>\n      <td>47.966604</td>\n      <td>48.985823</td>\n      <td>50.026031</td>\n      <td>48.928991</td>\n      <td>47.781450</td>\n      <td>48.133646</td>\n      <td>47.780670</td>\n    </tr>\n    <tr>\n      <th>median</th>\n      <td>45.0</td>\n      <td>46.140826</td>\n      <td>47.841588</td>\n      <td>49.987766</td>\n      <td>51.185976</td>\n      <td>52.625593</td>\n      <td>48.999563</td>\n      <td>44.702833</td>\n      <td>44.786272</td>\n      <td>41.853274</td>\n    </tr>\n    <tr>\n      <th>standard deviation</th>\n      <td>0.0</td>\n      <td>2.103946</td>\n      <td>4.309663</td>\n      <td>5.140710</td>\n      <td>6.338602</td>\n      <td>8.040797</td>\n      <td>9.628852</td>\n      <td>10.343290</td>\n      <td>11.862134</td>\n      <td>14.477089</td>\n    </tr>\n    <tr>\n      <th>variance</th>\n      <td>0.0</td>\n      <td>4.426591</td>\n      <td>18.573197</td>\n      <td>26.426898</td>\n      <td>40.177873</td>\n      <td>64.654410</td>\n      <td>92.714800</td>\n      <td>106.983640</td>\n      <td>140.710229</td>\n      <td>209.586105</td>\n    </tr>\n    <tr>\n      <th rowspan=\"5\" valign=\"top\">Propriva</th>\n      <th>SEM</th>\n      <td>0.0</td>\n      <td>0.324600</td>\n      <td>0.822007</td>\n      <td>1.245484</td>\n      <td>1.480327</td>\n      <td>2.050615</td>\n      <td>2.536683</td>\n      <td>3.230763</td>\n      <td>3.923517</td>\n      <td>4.786315</td>\n    </tr>\n    <tr>\n      <th>mean</th>\n      <td>45.0</td>\n      <td>46.306628</td>\n      <td>47.341923</td>\n      <td>48.003362</td>\n      <td>49.305041</td>\n      <td>50.538140</td>\n      <td>52.516770</td>\n      <td>53.202026</td>\n      <td>55.503455</td>\n      <td>55.915380</td>\n    </tr>\n    <tr>\n      <th>median</th>\n      <td>45.0</td>\n      <td>45.910041</td>\n      <td>48.179506</td>\n      <td>49.325826</td>\n      <td>51.001515</td>\n      <td>52.600270</td>\n      <td>56.388071</td>\n      <td>59.253484</td>\n      <td>63.194428</td>\n      <td>64.294085</td>\n    </tr>\n    <tr>\n      <th>standard deviation</th>\n      <td>0.0</td>\n      <td>1.590207</td>\n      <td>3.766908</td>\n      <td>5.569973</td>\n      <td>6.620226</td>\n      <td>8.938425</td>\n      <td>10.762236</td>\n      <td>13.320778</td>\n      <td>15.195715</td>\n      <td>17.257303</td>\n    </tr>\n    <tr>\n      <th>variance</th>\n      <td>0.0</td>\n      <td>2.528757</td>\n      <td>14.189593</td>\n      <td>31.024600</td>\n      <td>43.827386</td>\n      <td>79.895439</td>\n      <td>115.825718</td>\n      <td>177.443134</td>\n      <td>230.909752</td>\n      <td>297.814517</td>\n    </tr>\n    <tr>\n      <th rowspan=\"5\" valign=\"top\">Ramicane</th>\n      <th>SEM</th>\n      <td>0.0</td>\n      <td>0.493977</td>\n      <td>0.433735</td>\n      <td>0.650102</td>\n      <td>0.844034</td>\n      <td>1.028673</td>\n      <td>1.256525</td>\n      <td>1.585914</td>\n      <td>1.801864</td>\n      <td>2.733432</td>\n    </tr>\n    <tr>\n      <th>mean</th>\n      <td>45.0</td>\n      <td>46.625715</td>\n      <td>48.709927</td>\n      <td>51.083573</td>\n      <td>53.559185</td>\n      <td>56.114986</td>\n      <td>58.498355</td>\n      <td>61.139243</td>\n      <td>63.828535</td>\n      <td>67.313693</td>\n    </tr>\n    <tr>\n      <th>median</th>\n      <td>45.0</td>\n      <td>46.431216</td>\n      <td>48.516175</td>\n      <td>51.074521</td>\n      <td>53.189879</td>\n      <td>56.125807</td>\n      <td>58.662163</td>\n      <td>61.462604</td>\n      <td>64.054246</td>\n      <td>67.685569</td>\n    </tr>\n    <tr>\n      <th>standard deviation</th>\n      <td>0.0</td>\n      <td>2.469886</td>\n      <td>2.034396</td>\n      <td>2.979141</td>\n      <td>3.867850</td>\n      <td>4.600366</td>\n      <td>5.619351</td>\n      <td>6.912841</td>\n      <td>7.644662</td>\n      <td>9.855528</td>\n    </tr>\n    <tr>\n      <th>variance</th>\n      <td>0.0</td>\n      <td>6.100335</td>\n      <td>4.138767</td>\n      <td>8.875279</td>\n      <td>14.960264</td>\n      <td>21.163369</td>\n      <td>31.577105</td>\n      <td>47.787370</td>\n      <td>58.440850</td>\n      <td>97.131426</td>\n    </tr>\n    <tr>\n      <th rowspan=\"5\" valign=\"top\">Stelasyn</th>\n      <th>SEM</th>\n      <td>0.0</td>\n      <td>0.425755</td>\n      <td>0.701502</td>\n      <td>1.028051</td>\n      <td>1.538320</td>\n      <td>1.965836</td>\n      <td>2.374932</td>\n      <td>3.068414</td>\n      <td>3.425240</td>\n      <td>4.605272</td>\n    </tr>\n    <tr>\n      <th>mean</th>\n      <td>45.0</td>\n      <td>46.307957</td>\n      <td>47.774389</td>\n      <td>48.986664</td>\n      <td>51.055153</td>\n      <td>52.507000</td>\n      <td>54.261146</td>\n      <td>54.641058</td>\n      <td>57.393071</td>\n      <td>58.427308</td>\n    </tr>\n    <tr>\n      <th>median</th>\n      <td>45.0</td>\n      <td>46.377277</td>\n      <td>48.033423</td>\n      <td>50.263563</td>\n      <td>53.283910</td>\n      <td>55.702460</td>\n      <td>58.038538</td>\n      <td>57.600798</td>\n      <td>61.348251</td>\n      <td>63.649593</td>\n    </tr>\n    <tr>\n      <th>standard deviation</th>\n      <td>0.0</td>\n      <td>1.996966</td>\n      <td>3.290337</td>\n      <td>4.821987</td>\n      <td>6.879574</td>\n      <td>8.340337</td>\n      <td>10.075981</td>\n      <td>11.883915</td>\n      <td>12.816074</td>\n      <td>15.953130</td>\n    </tr>\n    <tr>\n      <th>variance</th>\n      <td>0.0</td>\n      <td>3.987874</td>\n      <td>10.826318</td>\n      <td>23.251555</td>\n      <td>47.328545</td>\n      <td>69.561227</td>\n      <td>101.525397</td>\n      <td>141.227429</td>\n      <td>164.251753</td>\n      <td>254.502347</td>\n    </tr>\n    <tr>\n      <th rowspan=\"5\" valign=\"top\">Zoniferol</th>\n      <th>SEM</th>\n      <td>0.0</td>\n      <td>0.476275</td>\n      <td>0.751491</td>\n      <td>1.089267</td>\n      <td>1.599750</td>\n      <td>2.300442</td>\n      <td>2.825109</td>\n      <td>3.013467</td>\n      <td>3.403946</td>\n      <td>4.074326</td>\n    </tr>\n    <tr>\n      <th>mean</th>\n      <td>45.0</td>\n      <td>45.956632</td>\n      <td>47.317913</td>\n      <td>48.742626</td>\n      <td>49.904878</td>\n      <td>50.898535</td>\n      <td>51.712464</td>\n      <td>53.297967</td>\n      <td>53.757303</td>\n      <td>53.985837</td>\n    </tr>\n    <tr>\n      <th>median</th>\n      <td>45.0</td>\n      <td>46.684697</td>\n      <td>48.183402</td>\n      <td>49.687052</td>\n      <td>52.693115</td>\n      <td>55.718627</td>\n      <td>57.052805</td>\n      <td>58.714483</td>\n      <td>60.726469</td>\n      <td>62.109651</td>\n    </tr>\n    <tr>\n      <th>standard deviation</th>\n      <td>0.0</td>\n      <td>2.333260</td>\n      <td>3.604025</td>\n      <td>5.223941</td>\n      <td>7.154298</td>\n      <td>9.759947</td>\n      <td>11.648222</td>\n      <td>12.424845</td>\n      <td>13.615784</td>\n      <td>15.779796</td>\n    </tr>\n    <tr>\n      <th>variance</th>\n      <td>0.0</td>\n      <td>5.444101</td>\n      <td>12.988999</td>\n      <td>27.289563</td>\n      <td>51.183978</td>\n      <td>95.256564</td>\n      <td>135.681084</td>\n      <td>154.376763</td>\n      <td>185.389582</td>\n      <td>249.001954</td>\n    </tr>\n  </tbody>\n</table>\n</div>"
     },
     "metadata": {},
     "execution_count": 14
    }
   ],
   "source": [
    "# Generate a summary statistics table of mean, median, variance, standard deviation, and SEM of the tumor volume for each regimen\n",
    "\n",
    "# This method is the most straighforward, creating multiple series and putting them all together at the end.\n",
    "\n",
    "Stats=[\"mean\", \"median\", \"variance\", \"standard deviation\", \"SEM\"]\n",
    "\n",
    "val=column_names[0]\n",
    "\n",
    "for x in range(len(Times)):\n",
    "    lbl=f\"{val}_T{x}\"\n",
    "    if x==0:\n",
    "        data_group_mean=pd.DataFrame({lbl: data_df.groupby([\"Drug Regimen\"])[lbl].mean()})\n",
    "        data_group_median=pd.DataFrame({lbl: data_df.groupby([\"Drug Regimen\"])[lbl].median()})\n",
    "        data_group_var=pd.DataFrame({lbl: data_df.groupby([\"Drug Regimen\"])[lbl].var()})\n",
    "        data_group_std=pd.DataFrame({lbl: data_df.groupby([\"Drug Regimen\"])[lbl].std()})\n",
    "        data_group_sem=pd.DataFrame({lbl: data_df.groupby([\"Drug Regimen\"])[lbl].sem()})\n",
    "    else:\n",
    "        data_group_mean[lbl]=data_df.groupby([\"Drug Regimen\"])[lbl].mean()\n",
    "        data_group_median[lbl]=data_df.groupby([\"Drug Regimen\"])[lbl].median()\n",
    "        data_group_var[lbl]=data_df.groupby([\"Drug Regimen\"])[lbl].var()\n",
    "        data_group_std[lbl]=data_df.groupby([\"Drug Regimen\"])[lbl].std()\n",
    "        data_group_sem[lbl]=data_df.groupby([\"Drug Regimen\"])[lbl].sem()\n",
    "\n",
    "\n",
    "data_group_mean.insert(0,\"Stat\",[Stats[0] for i in range(len(data_df.groupby([\"Drug Regimen\"])[lbl].mean()))])\n",
    "data_group_median.insert(0,\"Stat\",[Stats[1] for i in range(len(data_df.groupby([\"Drug Regimen\"])[lbl].mean()))])\n",
    "data_group_var.insert(0,\"Stat\",[Stats[2] for i in range(len(data_df.groupby([\"Drug Regimen\"])[lbl].mean()))])\n",
    "data_group_std.insert(0,\"Stat\",[Stats[3] for i in range(len(data_df.groupby([\"Drug Regimen\"])[lbl].mean()))])\n",
    "data_group_sem.insert(0,\"Stat\",[Stats[4] for i in range(len(data_df.groupby([\"Drug Regimen\"])[lbl].mean()))])\n",
    "\n",
    "data_group=data_group_mean.append(data_group_median).append(data_group_var).append(data_group_std).append(data_group_sem)\n",
    "\n",
    "data_group.reset_index(drop=False, inplace=True)\n",
    "data_group=data_group.set_index([\"Drug Regimen\", \"Stat\"]).sort_index()\n",
    "\n",
    "data_group"
   ]
  },
  {
   "cell_type": "markdown",
   "metadata": {},
   "source": [
    "## Bar and Pie Charts"
   ]
  },
  {
   "cell_type": "code",
   "execution_count": 11,
   "metadata": {},
   "outputs": [],
   "source": [
    "# Generate a bar plot showing the total number of mice for each treatment throughout the course of the study using pandas. \n",
    "\n"
   ]
  },
  {
   "cell_type": "code",
   "execution_count": 12,
   "metadata": {},
   "outputs": [],
   "source": [
    "# Generate a bar plot showing the total number of mice for each treatment throughout the course of the study using pyplot.\n",
    "\n"
   ]
  },
  {
   "cell_type": "code",
   "execution_count": 13,
   "metadata": {},
   "outputs": [],
   "source": [
    "# Generate a pie plot showing the distribution of female versus male mice using pandas\n",
    "\n"
   ]
  },
  {
   "cell_type": "code",
   "execution_count": 14,
   "metadata": {},
   "outputs": [],
   "source": [
    "# Generate a pie plot showing the distribution of female versus male mice using pyplot\n",
    "\n"
   ]
  },
  {
   "cell_type": "markdown",
   "metadata": {},
   "source": [
    "## Quartiles, Outliers and Boxplots"
   ]
  },
  {
   "cell_type": "code",
   "execution_count": 15,
   "metadata": {},
   "outputs": [],
   "source": [
    "# Calculate the final tumor volume of each mouse across four of the treatment regimens:  \n",
    "# Capomulin, Ramicane, Infubinol, and Ceftamin\n",
    "\n",
    "# Start by getting the last (greatest) timepoint for each mouse\n",
    "\n",
    "\n",
    "# Merge this group df with the original dataframe to get the tumor volume at the last timepoint\n"
   ]
  },
  {
   "cell_type": "code",
   "execution_count": 16,
   "metadata": {},
   "outputs": [],
   "source": [
    "# Put treatments into a list for for loop (and later for plot labels)\n",
    "\n",
    "\n",
    "# Create empty list to fill with tumor vol data (for plotting)\n",
    "\n",
    "\n",
    "# Calculate the IQR and quantitatively determine if there are any potential outliers. \n",
    "\n",
    "    \n",
    "    # Locate the rows which contain mice on each drug and get the tumor volumes\n",
    "    \n",
    "    \n",
    "    # add subset \n",
    "    \n",
    "    \n",
    "    # Determine outliers using upper and lower bounds\n",
    "    "
   ]
  },
  {
   "cell_type": "code",
   "execution_count": 17,
   "metadata": {},
   "outputs": [],
   "source": [
    "# Generate a box plot of the final tumor volume of each mouse across four regimens of interest\n"
   ]
  },
  {
   "cell_type": "markdown",
   "metadata": {},
   "source": [
    "## Line and Scatter Plots"
   ]
  },
  {
   "cell_type": "code",
   "execution_count": 18,
   "metadata": {},
   "outputs": [],
   "source": [
    "# Generate a line plot of time point versus tumor volume for a mouse treated with Capomulin\n"
   ]
  },
  {
   "cell_type": "code",
   "execution_count": 19,
   "metadata": {},
   "outputs": [],
   "source": [
    "# Generate a scatter plot of mouse weight versus average tumor volume for the Capomulin regimen\n"
   ]
  },
  {
   "cell_type": "markdown",
   "metadata": {},
   "source": [
    "## Correlation and Regression"
   ]
  },
  {
   "cell_type": "code",
   "execution_count": 20,
   "metadata": {},
   "outputs": [],
   "source": [
    "# Calculate the correlation coefficient and linear regression model \n",
    "# for mouse weight and average tumor volume for the Capomulin regimen\n"
   ]
  },
  {
   "cell_type": "code",
   "execution_count": null,
   "metadata": {},
   "outputs": [],
   "source": []
  }
 ],
 "metadata": {
  "anaconda-cloud": {},
  "kernelspec": {
   "display_name": "Python 3.6.10 64-bit ('bcs': conda)",
   "language": "python",
   "name": "python_defaultSpec_1598749392401"
  },
  "language_info": {
   "codemirror_mode": {
    "name": "ipython",
    "version": 3
   },
   "file_extension": ".py",
   "mimetype": "text/x-python",
   "name": "python",
   "nbconvert_exporter": "python",
   "pygments_lexer": "ipython3",
   "version": "3.6.10-final"
  }
 },
 "nbformat": 4,
 "nbformat_minor": 2
}