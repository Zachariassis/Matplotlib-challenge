{
 "cells": [
  {
   "cell_type": "markdown",
   "metadata": {},
   "source": [
    "## Observations and Insights "
   ]
  },
  {
   "cell_type": "markdown",
   "metadata": {},
   "source": []
  },
  {
   "cell_type": "code",
   "execution_count": 49,
   "metadata": {
    "tags": []
   },
   "outputs": [
    {
     "output_type": "execute_result",
     "data": {
      "text/plain": "  Mouse ID Drug Regimen     Sex  Age_months  Weight (g)  \\\n0     k403     Ramicane    Male          21          16   \n1     s185    Capomulin  Female           3          17   \n2     x401    Capomulin  Female          16          15   \n3     m601    Capomulin    Male          22          17   \n4     g791     Ramicane    Male          11          16   \n\n   Tumor Volume (mm3)_T0  Metastatic Sites_T0  Tumor Volume (mm3)_T1  \\\n0                   45.0                  0.0              45.651331   \n1                   45.0                  0.0                    NaN   \n2                   45.0                  0.0              48.791665   \n3                   45.0                  0.0              47.462891   \n4                   45.0                  0.0              45.769249   \n\n   Metastatic Sites_T1  Tumor Volume (mm3)_T2  ...  Tumor Volume (mm3)_T5  \\\n0                  0.0              45.651331  ...              45.651331   \n1                  NaN                    NaN  ...                    NaN   \n2                  0.0              48.791665  ...              48.791665   \n3                  0.0              47.462891  ...              47.462891   \n4                  1.0              45.769249  ...              45.769249   \n\n   Metastatic Sites_T5  Tumor Volume (mm3)_T6  Metastatic Sites_T6  \\\n0                  0.0              45.651331                  0.0   \n1                  NaN                    NaN                  NaN   \n2                  0.0              48.791665                  0.0   \n3                  0.0              47.462891                  0.0   \n4                  1.0              45.769249                  1.0   \n\n   Tumor Volume (mm3)_T7  Metastatic Sites_T7  Tumor Volume (mm3)_T8  \\\n0              45.651331                  0.0              45.651331   \n1                    NaN                  NaN                    NaN   \n2              48.791665                  0.0              48.791665   \n3              47.462891                  0.0              47.462891   \n4              45.769249                  1.0              45.769249   \n\n   Metastatic Sites_T8  Tumor Volume (mm3)_T9  Metastatic Sites_T9  \n0                  0.0              45.651331                  0.0  \n1                  NaN                    NaN                  NaN  \n2                  0.0              48.791665                  0.0  \n3                  0.0              47.462891                  0.0  \n4                  1.0              45.769249                  1.0  \n\n[5 rows x 25 columns]",
      "text/html": "<div>\n<style scoped>\n    .dataframe tbody tr th:only-of-type {\n        vertical-align: middle;\n    }\n\n    .dataframe tbody tr th {\n        vertical-align: top;\n    }\n\n    .dataframe thead th {\n        text-align: right;\n    }\n</style>\n<table border=\"1\" class=\"dataframe\">\n  <thead>\n    <tr style=\"text-align: right;\">\n      <th></th>\n      <th>Mouse ID</th>\n      <th>Drug Regimen</th>\n      <th>Sex</th>\n      <th>Age_months</th>\n      <th>Weight (g)</th>\n      <th>Tumor Volume (mm3)_T0</th>\n      <th>Metastatic Sites_T0</th>\n      <th>Tumor Volume (mm3)_T1</th>\n      <th>Metastatic Sites_T1</th>\n      <th>Tumor Volume (mm3)_T2</th>\n      <th>...</th>\n      <th>Tumor Volume (mm3)_T5</th>\n      <th>Metastatic Sites_T5</th>\n      <th>Tumor Volume (mm3)_T6</th>\n      <th>Metastatic Sites_T6</th>\n      <th>Tumor Volume (mm3)_T7</th>\n      <th>Metastatic Sites_T7</th>\n      <th>Tumor Volume (mm3)_T8</th>\n      <th>Metastatic Sites_T8</th>\n      <th>Tumor Volume (mm3)_T9</th>\n      <th>Metastatic Sites_T9</th>\n    </tr>\n  </thead>\n  <tbody>\n    <tr>\n      <th>0</th>\n      <td>k403</td>\n      <td>Ramicane</td>\n      <td>Male</td>\n      <td>21</td>\n      <td>16</td>\n      <td>45.0</td>\n      <td>0.0</td>\n      <td>45.651331</td>\n      <td>0.0</td>\n      <td>45.651331</td>\n      <td>...</td>\n      <td>45.651331</td>\n      <td>0.0</td>\n      <td>45.651331</td>\n      <td>0.0</td>\n      <td>45.651331</td>\n      <td>0.0</td>\n      <td>45.651331</td>\n      <td>0.0</td>\n      <td>45.651331</td>\n      <td>0.0</td>\n    </tr>\n    <tr>\n      <th>1</th>\n      <td>s185</td>\n      <td>Capomulin</td>\n      <td>Female</td>\n      <td>3</td>\n      <td>17</td>\n      <td>45.0</td>\n      <td>0.0</td>\n      <td>NaN</td>\n      <td>NaN</td>\n      <td>NaN</td>\n      <td>...</td>\n      <td>NaN</td>\n      <td>NaN</td>\n      <td>NaN</td>\n      <td>NaN</td>\n      <td>NaN</td>\n      <td>NaN</td>\n      <td>NaN</td>\n      <td>NaN</td>\n      <td>NaN</td>\n      <td>NaN</td>\n    </tr>\n    <tr>\n      <th>2</th>\n      <td>x401</td>\n      <td>Capomulin</td>\n      <td>Female</td>\n      <td>16</td>\n      <td>15</td>\n      <td>45.0</td>\n      <td>0.0</td>\n      <td>48.791665</td>\n      <td>0.0</td>\n      <td>48.791665</td>\n      <td>...</td>\n      <td>48.791665</td>\n      <td>0.0</td>\n      <td>48.791665</td>\n      <td>0.0</td>\n      <td>48.791665</td>\n      <td>0.0</td>\n      <td>48.791665</td>\n      <td>0.0</td>\n      <td>48.791665</td>\n      <td>0.0</td>\n    </tr>\n    <tr>\n      <th>3</th>\n      <td>m601</td>\n      <td>Capomulin</td>\n      <td>Male</td>\n      <td>22</td>\n      <td>17</td>\n      <td>45.0</td>\n      <td>0.0</td>\n      <td>47.462891</td>\n      <td>0.0</td>\n      <td>47.462891</td>\n      <td>...</td>\n      <td>47.462891</td>\n      <td>0.0</td>\n      <td>47.462891</td>\n      <td>0.0</td>\n      <td>47.462891</td>\n      <td>0.0</td>\n      <td>47.462891</td>\n      <td>0.0</td>\n      <td>47.462891</td>\n      <td>0.0</td>\n    </tr>\n    <tr>\n      <th>4</th>\n      <td>g791</td>\n      <td>Ramicane</td>\n      <td>Male</td>\n      <td>11</td>\n      <td>16</td>\n      <td>45.0</td>\n      <td>0.0</td>\n      <td>45.769249</td>\n      <td>1.0</td>\n      <td>45.769249</td>\n      <td>...</td>\n      <td>45.769249</td>\n      <td>1.0</td>\n      <td>45.769249</td>\n      <td>1.0</td>\n      <td>45.769249</td>\n      <td>1.0</td>\n      <td>45.769249</td>\n      <td>1.0</td>\n      <td>45.769249</td>\n      <td>1.0</td>\n    </tr>\n  </tbody>\n</table>\n<p>5 rows × 25 columns</p>\n</div>"
     },
     "metadata": {},
     "execution_count": 49
    }
   ],
   "source": [
    "# Dependencies and Setup\n",
    "import matplotlib.pyplot as plt\n",
    "import pandas as pd\n",
    "import scipy.stats as st\n",
    "import numpy as np\n",
    "\n",
    "# Study data files\n",
    "mouse_metadata_path = \"data/Mouse_metadata.csv\"\n",
    "study_results_path = \"data/Study_results.csv\"\n",
    "\n",
    "# Read the mouse data and the study results\n",
    "mouse_metadata = pd.read_csv(mouse_metadata_path)\n",
    "study_results = pd.read_csv(study_results_path)\n",
    "\n",
    "nums=study_results.groupby([\"Timepoint\"]).count()\n",
    "dups= study_results.duplicated(subset=[\"Mouse ID\", \"Timepoint\"], keep=False)\n",
    "dups_count=dups.value_counts()\n",
    "dups_count_df=pd.DataFrame({\"Duplicate\": dups})\n",
    "study_results_dups=study_results.merge(dups_count_df,how=\"outer\",left_index=True, right_index=True)\n",
    "study_results_dups2=study_results_dups.loc[study_results_dups[\"Duplicate\"]!=True]\n",
    "study_results_dups2=study_results_dups2.drop(columns=[\"Duplicate\"])\n",
    "\n",
    "\n",
    "# Combine the data into a single dataset\n",
    "\n",
    "Times=nums.index.tolist()\n",
    "\n",
    "for x in range(len(Times)):\n",
    "    if x==0:\n",
    "        results_combined=study_results_dups2.loc[study_results_dups2[\"Timepoint\"]==Times[x]].drop(columns=[\"Timepoint\"])\n",
    "    elif x==len(Times)-1:\n",
    "        results_combined=results_combined.merge(study_results_dups2.loc[study_results_dups2[\"Timepoint\"]==5], on=\"Mouse ID\", how=\"outer\", suffixes=('_T0',f'_T{x}')).drop(columns=[\"Timepoint\"])\n",
    "    else:\n",
    "        results_combined=results_combined.merge(study_results_dups2.loc[study_results_dups2[\"Timepoint\"]==5], on=\"Mouse ID\", how=\"outer\", suffixes=('',f'_T{x}')).drop(columns=[\"Timepoint\"])\n",
    "\n",
    "\n",
    "#Combine results DF with mouse DF\n",
    "data_df=mouse_metadata.merge(results_combined, on=\"Mouse ID\", how=\"outer\",left_index=True, right_index=True)\n",
    "\n",
    "#Getting rid of mouse in metadata that was misslabelled in the study results set\n",
    "data_df=data_df.loc[data_df[\"Tumor Volume (mm3)_T0\"].isnull()==False]\n",
    "\n",
    "# Display the data table for preview\n",
    "data_df.head()\n"
   ]
  },
  {
   "cell_type": "code",
   "execution_count": null,
   "metadata": {},
   "outputs": [],
   "source": [
    "#Just checking to see which mouse got wrongly ID'd\n",
    "\n"
   ]
  },
  {
   "cell_type": "code",
   "execution_count": 4,
   "metadata": {},
   "outputs": [],
   "source": [
    "# Checking the number of mice.\n"
   ]
  },
  {
   "cell_type": "code",
   "execution_count": 5,
   "metadata": {},
   "outputs": [],
   "source": [
    "# Getting the duplicate mice by ID number that shows up for Mouse ID and Timepoint. \n",
    "\n"
   ]
  },
  {
   "cell_type": "code",
   "execution_count": 6,
   "metadata": {},
   "outputs": [],
   "source": [
    "# Optional: Get all the data for the duplicate mouse ID. \n",
    "\n"
   ]
  },
  {
   "cell_type": "code",
   "execution_count": 7,
   "metadata": {},
   "outputs": [],
   "source": [
    "# Create a clean DataFrame by dropping the duplicate mouse by its ID.\n"
   ]
  },
  {
   "cell_type": "code",
   "execution_count": 8,
   "metadata": {},
   "outputs": [],
   "source": [
    "# Checking the number of mice in the clean DataFrame.\n"
   ]
  },
  {
   "cell_type": "markdown",
   "metadata": {},
   "source": [
    "## Summary Statistics"
   ]
  },
  {
   "cell_type": "code",
   "execution_count": 9,
   "metadata": {},
   "outputs": [],
   "source": [
    "# Generate a summary statistics table of mean, median, variance, standard deviation, and SEM of the tumor volume for each regimen\n",
    "\n",
    "# This method is the most straighforward, creating multiple series and putting them all together at the end.\n",
    "\n"
   ]
  },
  {
   "cell_type": "code",
   "execution_count": 10,
   "metadata": {},
   "outputs": [],
   "source": [
    "# Generate a summary statistics table of mean, median, variance, standard deviation, and SEM of the tumor volume for each regimen\n",
    "\n",
    "# This method produces everything in a single groupby function\n"
   ]
  },
  {
   "cell_type": "markdown",
   "metadata": {},
   "source": [
    "## Bar and Pie Charts"
   ]
  },
  {
   "cell_type": "code",
   "execution_count": 11,
   "metadata": {},
   "outputs": [],
   "source": [
    "# Generate a bar plot showing the total number of mice for each treatment throughout the course of the study using pandas. \n",
    "\n"
   ]
  },
  {
   "cell_type": "code",
   "execution_count": 12,
   "metadata": {},
   "outputs": [],
   "source": [
    "# Generate a bar plot showing the total number of mice for each treatment throughout the course of the study using pyplot.\n",
    "\n"
   ]
  },
  {
   "cell_type": "code",
   "execution_count": 13,
   "metadata": {},
   "outputs": [],
   "source": [
    "# Generate a pie plot showing the distribution of female versus male mice using pandas\n",
    "\n"
   ]
  },
  {
   "cell_type": "code",
   "execution_count": 14,
   "metadata": {},
   "outputs": [],
   "source": [
    "# Generate a pie plot showing the distribution of female versus male mice using pyplot\n",
    "\n"
   ]
  },
  {
   "cell_type": "markdown",
   "metadata": {},
   "source": [
    "## Quartiles, Outliers and Boxplots"
   ]
  },
  {
   "cell_type": "code",
   "execution_count": 15,
   "metadata": {},
   "outputs": [],
   "source": [
    "# Calculate the final tumor volume of each mouse across four of the treatment regimens:  \n",
    "# Capomulin, Ramicane, Infubinol, and Ceftamin\n",
    "\n",
    "# Start by getting the last (greatest) timepoint for each mouse\n",
    "\n",
    "\n",
    "# Merge this group df with the original dataframe to get the tumor volume at the last timepoint\n"
   ]
  },
  {
   "cell_type": "code",
   "execution_count": 16,
   "metadata": {},
   "outputs": [],
   "source": [
    "# Put treatments into a list for for loop (and later for plot labels)\n",
    "\n",
    "\n",
    "# Create empty list to fill with tumor vol data (for plotting)\n",
    "\n",
    "\n",
    "# Calculate the IQR and quantitatively determine if there are any potential outliers. \n",
    "\n",
    "    \n",
    "    # Locate the rows which contain mice on each drug and get the tumor volumes\n",
    "    \n",
    "    \n",
    "    # add subset \n",
    "    \n",
    "    \n",
    "    # Determine outliers using upper and lower bounds\n",
    "    "
   ]
  },
  {
   "cell_type": "code",
   "execution_count": 17,
   "metadata": {},
   "outputs": [],
   "source": [
    "# Generate a box plot of the final tumor volume of each mouse across four regimens of interest\n"
   ]
  },
  {
   "cell_type": "markdown",
   "metadata": {},
   "source": [
    "## Line and Scatter Plots"
   ]
  },
  {
   "cell_type": "code",
   "execution_count": 18,
   "metadata": {},
   "outputs": [],
   "source": [
    "# Generate a line plot of time point versus tumor volume for a mouse treated with Capomulin\n"
   ]
  },
  {
   "cell_type": "code",
   "execution_count": 19,
   "metadata": {},
   "outputs": [],
   "source": [
    "# Generate a scatter plot of mouse weight versus average tumor volume for the Capomulin regimen\n"
   ]
  },
  {
   "cell_type": "markdown",
   "metadata": {},
   "source": [
    "## Correlation and Regression"
   ]
  },
  {
   "cell_type": "code",
   "execution_count": 20,
   "metadata": {},
   "outputs": [],
   "source": [
    "# Calculate the correlation coefficient and linear regression model \n",
    "# for mouse weight and average tumor volume for the Capomulin regimen\n"
   ]
  },
  {
   "cell_type": "code",
   "execution_count": null,
   "metadata": {},
   "outputs": [],
   "source": []
  }
 ],
 "metadata": {
  "anaconda-cloud": {},
  "kernelspec": {
   "display_name": "Python 3.7.6 64-bit ('base': conda)",
   "language": "python",
   "name": "python_defaultSpec_1598734451949"
  },
  "language_info": {
   "codemirror_mode": {
    "name": "ipython",
    "version": 3
   },
   "file_extension": ".py",
   "mimetype": "text/x-python",
   "name": "python",
   "nbconvert_exporter": "python",
   "pygments_lexer": "ipython3",
   "version": "3.7.6-final"
  }
 },
 "nbformat": 4,
 "nbformat_minor": 2
}